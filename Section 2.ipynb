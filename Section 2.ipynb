{
 "cells": [
  {
   "cell_type": "code",
   "execution_count": null,
   "id": "4d857d7e",
   "metadata": {},
   "outputs": [],
   "source": [
    "#program20\n",
    "command = input(\"Would you like some advice? \")\n",
    "if command == \"Y\":\n",
    "    print(\"Always know where your towel is\")"
   ]
  },
  {
   "cell_type": "code",
   "execution_count": null,
   "id": "27826479",
   "metadata": {},
   "outputs": [],
   "source": [
    "#program21\n",
    "blackscore = input(\"What is Black's score?\")\n",
    "whitescore = input(\"What is White's score?\")\n",
    "whitescore = float(whitescore) + 6.5\n",
    "print(\"After 6.5 is added the score is:\")\n",
    "print(\"Black - \" + blackscore)\n",
    "print(\"White - \" + str(whitescore))\n",
    "if str(whitescore) > blackscore:\n",
    "    print(\"White is the winner\")\n",
    "else:\n",
    "    print(\"Black is the winner\")"
   ]
  },
  {
   "cell_type": "code",
   "execution_count": null,
   "id": "8a592291",
   "metadata": {},
   "outputs": [],
   "source": [
    "#program22\n",
    "amount1 = int(input(\"Please enter the first amount raised. \"))\n",
    "amount2 = int(input(\"Please enter the second amount raised. \"))\n",
    "amount3 = int(input(\"Please enter the third amount raised. \"))\n",
    "total = amount1 + amount2 + amount3\n",
    "print(\"A total of $\"+ str(total) + \" was raised.\")\n",
    "if total > 1000:\n",
    "    doubletotal = total*2\n",
    "print(\"This will be doubled to $\" + str(doubletotal) + \".\")"
   ]
  },
  {
   "cell_type": "code",
   "execution_count": null,
   "id": "b32a6611",
   "metadata": {},
   "outputs": [],
   "source": [
    "#program23\n",
    "print(\"Rectangle 1\")\n",
    "length1 = int(input(\"Please enter the length: \"))\n",
    "width1 = int(input(\"Please enter the width\"))\n",
    "area1 = length1*width1\n",
    "print(\"Rectangle 2\")\n",
    "length2 = int(input(\"Please enter the length: \"))\n",
    "width2 = int(input(\"Please enter the width\"))\n",
    "area2 = length2*width2\n",
    "if area1 > area2:\n",
    "    print(\"Rectangle 1 has the largest area\")\n",
    "else:\n",
    "    print(\"Rectangle 2 has the largest area\")"
   ]
  },
  {
   "cell_type": "code",
   "execution_count": null,
   "id": "810c713f",
   "metadata": {},
   "outputs": [],
   "source": [
    "#program24\n",
    "sentence1 = input(\"Enter the sentence 1 \")\n",
    "sentence1 = sentence1.lower()\n",
    "sentence2 = input(\"Enter the sentence 2 \")\n",
    "sentence2 = sentence2.lower()\n",
    "length1 = len(sentence1)\n",
    "length2 = len(sentence2)\n",
    "vowlen1 = 0\n",
    "for i in sentence1:\n",
    "    if(i=='a' or i=='e' or i=='i' or i=='o' or i=='u'):\n",
    "        vowlen1 = vowlen1+1    \n",
    "vowlen2 = 0\n",
    "for i in sentence2:\n",
    "    if(i=='a' or i=='e' or i=='i' or i=='o' or i=='u'):\n",
    "        vowlen2 = vowlen2+1\n",
    "percent1 = float((100/length1)*vowlen1)\n",
    "percent2 = float((100/length2)*vowlen2)\n",
    "percent1 = round(percent1,2)\n",
    "percent2 = round(percent2,2)\n",
    "print(\"The percentage of vowels in sentence 1 is: \" + str(percent1))\n",
    "print(\"The percentage of vowels in sentence 2 is: \" + str(percent2))\n",
    "print(\"Sentence 1 has \"+ str(vowlen1)+\" vowels.\")\n",
    "print(\"Sentence 2 has \"+ str(vowlen2)+\" vowels.\")\n",
    "if vowlen1>vowlen2:\n",
    "    print(\"Sentence 1 has more vowels.\")\n",
    "else:\n",
    "    print(\"Sentence 2 has more vowels.\")\n"
   ]
  },
  {
   "cell_type": "code",
   "execution_count": null,
   "id": "0ad97ecb",
   "metadata": {},
   "outputs": [],
   "source": [
    "#program25\n",
    "command = input(\"Would you like some advice? \")\n",
    "if command == \"Y\":\n",
    "    print(\"Always know where your towel is\")\n",
    "elif command == \"N\":\n",
    "    print(\"Okay\")\n",
    "else:\n",
    "    print(\"Sorry, you were asked to enter Y or N.\")"
   ]
  },
  {
   "cell_type": "code",
   "execution_count": null,
   "id": "2a1945ff",
   "metadata": {},
   "outputs": [],
   "source": [
    "#program26\n",
    "speed = input(\"Please enter the test speed (mph).\")\n",
    "\n",
    "distance = input(\"Please enter the tested stopping distance (m).\")\n",
    "if speed == 30 and distance == 14:\n",
    "    print(\"Your car passed braking test\")\n",
    "elif speed == 50 and distance == 38:\n",
    "    print(\"Your car passed braking test\")\n",
    "else:\n",
    "    print(\"Your car failed the braking distance test.\")\n"
   ]
  },
  {
   "cell_type": "code",
   "execution_count": null,
   "id": "5b20b73c",
   "metadata": {},
   "outputs": [],
   "source": [
    "#program27\n",
    "amount1 = int(input(\"Please enter the first amount raised. \"))\n",
    "amount2 = int(input(\"Please enter the second amount raised. \"))\n",
    "amount3 = int(input(\"Please enter the third amount raised. \"))\n",
    "total = amount1 + amount2 + amount3\n",
    "print(\"A total of $\"+ str(total) + \" was raised.\")\n",
    "if total < 1000:\n",
    "    newtotal = total + 100\n",
    "elif total <= 1000 and total >=2000:\n",
    "    newtotal1 = total * 2\n",
    "elif total > 2000:\n",
    "    remain = total - 2000\n",
    "    newtotal2 = (2*2000) + remain\n",
    "print(\"With the company bonus, this is $\" + str(newtotal2) + \".\")"
   ]
  }
 ],
 "metadata": {
  "kernelspec": {
   "display_name": "Python 3 (ipykernel)",
   "language": "python",
   "name": "python3"
  },
  "language_info": {
   "codemirror_mode": {
    "name": "ipython",
    "version": 3
   },
   "file_extension": ".py",
   "mimetype": "text/x-python",
   "name": "python",
   "nbconvert_exporter": "python",
   "pygments_lexer": "ipython3",
   "version": "3.9.7"
  }
 },
 "nbformat": 4,
 "nbformat_minor": 5
}
