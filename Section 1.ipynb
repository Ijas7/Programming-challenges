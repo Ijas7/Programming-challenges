{
 "cells": [
  {
   "cell_type": "code",
   "execution_count": null,
   "id": "4bfd0f98",
   "metadata": {},
   "outputs": [],
   "source": [
    "#program 1\n",
    "name = input(\"Please enter your name.\")\n",
    "age = int(input(\"What is your age?\"))\n",
    "program = input(\"What is your favourite TV programme?\")\n",
    "print(name)\n",
    "print(\"is\")\n",
    "print(age)\n",
    "print(\"years old and likes\")\n",
    "print(program)"
   ]
  },
  {
   "cell_type": "code",
   "execution_count": null,
   "id": "fe829541",
   "metadata": {},
   "outputs": [],
   "source": [
    "#program 2\n",
    "firstname = input(\"Please enter Firstname. \")\n",
    "secondname = input(\"Please enter Secondname. \")\n",
    "print(secondname +\" \"+ firstname)"
   ]
  },
  {
   "cell_type": "code",
   "execution_count": null,
   "id": "f642a075",
   "metadata": {},
   "outputs": [],
   "source": [
    "#program 3\n",
    "name = input(\"Please enter your name.\")\n",
    "age = int(input(\"What is your age?\"))\n",
    "program = input(\"What is your favourite TV programme?\")\n",
    "print(name,age)\n",
    "print(\"Likes watching \"+program)"
   ]
  },
  {
   "cell_type": "code",
   "execution_count": null,
   "id": "fac660a2",
   "metadata": {},
   "outputs": [],
   "source": [
    "#program 4\n",
    "letter1 = input(\"Enter Letters\")\n",
    "letter1 = letter1.upper()\n",
    "number1 = input(\"Enter number\")\n",
    "number2 = input(\"Enter number\")\n",
    "letter2 = input(\"Enter Letters\")\n",
    "letter2 = letter2.upper()\n",
    "print(letter1+number1+\" \"+number2+letter2)"
   ]
  },
  {
   "cell_type": "code",
   "execution_count": null,
   "id": "10603ed4",
   "metadata": {},
   "outputs": [],
   "source": [
    "#program 5\n",
    "message = input(\"Please enter the following values in cm\")\n",
    "length = int(input(\"Please enter the length of the rectangle. \"))\n",
    "width = int(input(\"Please enter the width of the rectangle. \"))\n",
    "area = length * width\n",
    "print(\"The area of the rectangle is:\")\n",
    "print(area, \"square centimeters\")"
   ]
  },
  {
   "cell_type": "code",
   "execution_count": null,
   "id": "d900cea5",
   "metadata": {},
   "outputs": [],
   "source": [
    "#program 6\n",
    "num1 = input()\n",
    "num2 = input()\n",
    "print(num1+num2)"
   ]
  },
  {
   "cell_type": "code",
   "execution_count": null,
   "id": "d528af4b",
   "metadata": {},
   "outputs": [],
   "source": [
    "#program 7\n",
    "letter1 = input(\"Enter Letters\")\n",
    "letter1 = letter1.upper()\n",
    "number1 = input(\"Enter number\")\n",
    "number2 = input(\"Enter number\")\n",
    "letter2 = input(\"Enter Letters\")\n",
    "letter2 = letter2.upper()\n",
    "print(letter1+number1+\" \"+number2+letter2)"
   ]
  },
  {
   "cell_type": "code",
   "execution_count": null,
   "id": "d6ba7fb8",
   "metadata": {},
   "outputs": [],
   "source": [
    "#program8\n",
    "forename = input(\"please enter your forename:\")\n",
    "surname = input(\"please enter your surname:\")\n",
    "total = forename+surname\n",
    "number = int(len(total))\n",
    "print(\"There are \" + str(number) + \" letters in your name.\")"
   ]
  },
  {
   "cell_type": "code",
   "execution_count": null,
   "id": "7beef7f1",
   "metadata": {},
   "outputs": [],
   "source": [
    "#Program9\n",
    "sentence = input(\"Please enter a sentence of your choice.\")\n",
    "a = sentence.upper().count(\"A\")\n",
    "e = sentence.upper().count(\"E\")\n",
    "i = sentence.upper().count(\"I\")\n",
    "o = sentence.upper().count(\"O\")\n",
    "u = sentence.upper().count(\"U\")\n",
    "total = a+e+i+o+u\n",
    "print(\"Your sentence contained the following: \")\n",
    "print(\"a = \"+str(a))\n",
    "print(\"e = \"+str(e))\n",
    "print(\"i = \"+str(i))\n",
    "print(\"o = \"+str(o))\n",
    "print(\"u = \"+str(u))\n",
    "print(\"This is a total of \"+ str(total) + \" vowels.\")"
   ]
  },
  {
   "cell_type": "code",
   "execution_count": null,
   "id": "a966903d",
   "metadata": {},
   "outputs": [],
   "source": [
    "#program10\n",
    "sentence = input(\"Please enter the male report:\")\n",
    "sentence1 = sentence.replace(\"He\",\"She\")\n",
    "sentence2 = sentence1.replace(\"his\",\"her\")\n",
    "print(\"The female comment is:\")\n",
    "print(sentence2)"
   ]
  },
  {
   "cell_type": "code",
   "execution_count": null,
   "id": "36c81057",
   "metadata": {},
   "outputs": [],
   "source": [
    "#program11\n",
    "name = input(\"Please enter the product name.\")\n",
    "year = input(\"Please enter the year.\")\n",
    "namefirst = name[0:2]\n",
    "namelast = name[-2:]\n",
    "yearfirst = year[0:1]\n",
    "yearlast = year[-1:]\n",
    "final = namefirst + namelast + yearfirst + yearlast\n",
    "print(\"The stock code for Plaza Beans is:\")\n",
    "print(final)"
   ]
  },
  {
   "cell_type": "code",
   "execution_count": null,
   "id": "c96c7b34",
   "metadata": {},
   "outputs": [],
   "source": [
    "#program12\n",
    "print(\"Please enter your three costs.\")\n",
    "a = float(input())\n",
    "b = float(input())\n",
    "c = float(input())\n",
    "d = a+b+c\n",
    "e = int(d*(10/100))\n",
    "e = float(e)\n",
    "print(\"The total cost is $\" + str(d))\n",
    "print(\"The auction companies fee is $\" + str(e))"
   ]
  },
  {
   "cell_type": "code",
   "execution_count": null,
   "id": "2e459d2f",
   "metadata": {},
   "outputs": [],
   "source": [
    "#program13\n",
    "print(\"Please enter the following value in cm.\")\n",
    "r = int(input(\"Please enter the radius of the circle.\"))\n",
    "area = float(3.14*pow(r,2))\n",
    "print(\"The area of the circle is:\")\n",
    "print(str(area)+ \" square centimeters\")"
   ]
  },
  {
   "cell_type": "code",
   "execution_count": null,
   "id": "f44c977a",
   "metadata": {},
   "outputs": [],
   "source": [
    "#program14\n",
    "voljar = float(input(\"Please enter the volume of the jar (cm3):\"))\n",
    "volsweet = float(input(\"Please enter the volume of one sweet (cm3):\"))\n",
    "fit = int(voljar/volsweet)\n",
    "print(str(fit)+ \" sweets fit into the jar.\")"
   ]
  },
  {
   "cell_type": "code",
   "execution_count": null,
   "id": "de67109e",
   "metadata": {},
   "outputs": [],
   "source": [
    "#program15\n",
    "import math\n",
    "area = int(input(\"Enter the area in m2 to be painted.\"))\n",
    "cover = int(input(\"Enter the area (m2) that a single pot covers.\"))\n",
    "paintneed = (area/cover)\n",
    "paintneedround = math.ceil(paintneed)\n",
    "remain = paintneedround - paintneed\n",
    "arealeft  = math.ceil(float(remain*cover))\n",
    "print(\"You will need \"+ str(paintneedround) +\" pots of paint\")\n",
    "print(\"You can paint \"+ str(arealeft)+ \" m2 with the leftover paint.\")"
   ]
  },
  {
   "cell_type": "code",
   "execution_count": null,
   "id": "11c93458",
   "metadata": {},
   "outputs": [],
   "source": [
    "#program16\n",
    "bricklength = float(input(\"Please enter the length of a brick in cm: \"))\n",
    "obricklength = bricklength + 1\n",
    "walllength = float(input(\"Please enter the length of a wall in m: \"))\n",
    "owalllength = walllength * 100\n",
    "bricksrequired = owalllength/obricklength\n",
    "bricksrequired = int(bricksrequired)\n",
    "print(str(bricksrequired) + \" bricks build one row of wall\")\n",
    "bricksremain = owalllength%obricklength\n",
    "bricksremain = int(bricksremain)\n",
    "print (\"This is \" + str(bricksremain) + \" cm short of the required wall length.\")"
   ]
  },
  {
   "cell_type": "code",
   "execution_count": null,
   "id": "3689e255",
   "metadata": {},
   "outputs": [],
   "source": [
    "#program17\n",
    "catom = int(input(\"Enter the number of carbon atoms.\"))\n",
    "hatom = (catom*2)+2\n",
    "atomicnumber = (catom*12)+hatom\n",
    "display = \"C\"+str(catom)+\"H\"+str(hatom)\n",
    "print(\"The atomic mass of \"+ display + \" is \" + str(atomicnumber))"
   ]
  },
  {
   "cell_type": "code",
   "execution_count": null,
   "id": "f2998577",
   "metadata": {},
   "outputs": [],
   "source": [
    "#program18\n",
    "shots3 = int(input(\"How many par 3 holes are there? \"))\n",
    "shots33 = shots3 * 3\n",
    "shots4 = int(input(\"How many par 4 holes are there? \"))\n",
    "shots44 = shots4 * 4\n",
    "shots5 = int(input(\"How many par 5 holes are there? \"))\n",
    "shots55 = shots5 * 5\n",
    "sumshots = shots33+shots44+shots55\n",
    "difadj = int(input(\"What is the difficulty adjustment for the course?\"))\n",
    "display = sumshots + difadj\n",
    "print(\"The standard Scratch score for the course is: \" + str(display))"
   ]
  },
  {
   "cell_type": "code",
   "execution_count": null,
   "id": "416e0f8d",
   "metadata": {},
   "outputs": [],
   "source": [
    "#program19\n",
    "circumference = int(input(\"What is the circumference of your wheel in millimeters? \"))\n",
    "revolutions = int(input(\"How many wheel revolutions have taken place in your journey? \"))\n",
    "minutes = int(input(\"How many minutes did you cycle for? \"))\n",
    "hours = minutes/60\n",
    "distance = (circumference*revolutions)/1000000\n",
    "print(\"You covered \"+ str(distance)+ \" km.\")\n",
    "speed = distance/hours\n",
    "print(\"At an average speed of \"+ str(speed) + \" kmh.\")"
   ]
  }
 ],
 "metadata": {
  "kernelspec": {
   "display_name": "Python 3 (ipykernel)",
   "language": "python",
   "name": "python3"
  },
  "language_info": {
   "codemirror_mode": {
    "name": "ipython",
    "version": 3
   },
   "file_extension": ".py",
   "mimetype": "text/x-python",
   "name": "python",
   "nbconvert_exporter": "python",
   "pygments_lexer": "ipython3",
   "version": "3.9.7"
  }
 },
 "nbformat": 4,
 "nbformat_minor": 5
}
