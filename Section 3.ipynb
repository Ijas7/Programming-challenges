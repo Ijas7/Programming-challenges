{
 "cells": [
  {
   "cell_type": "code",
   "execution_count": null,
   "id": "3983ea7c",
   "metadata": {},
   "outputs": [],
   "source": [
    "#program28\n",
    "sentence = input(\"Which sentence would you like copied? \")\n",
    "for loop in range(20):\n",
    "    print(sentence)"
   ]
  },
  {
   "cell_type": "code",
   "execution_count": null,
   "id": "db8d431d",
   "metadata": {},
   "outputs": [],
   "source": [
    "#program29\n",
    "amount1 = int(input(\"Please enter the first amount raised. \"))\n",
    "amount2 = int(input(\"Please enter the second amount raised. \"))\n",
    "amount3 = int(input(\"Please enter the third amount raised. \"))\n",
    "total = amount1 + amount2 + amount3\n",
    "print(\"A total of $\"+ str(total) + \" was raised.\")\n",
    "newtotal = total*2\n",
    "for loop in range(3):\n",
    "    print(\"$\"+str(newtotal) +\"!!!\")"
   ]
  },
  {
   "cell_type": "code",
   "execution_count": null,
   "id": "5c74fa65",
   "metadata": {},
   "outputs": [],
   "source": [
    "#program30\n",
    "firstname = input(\"Please enter first name: \")\n",
    "secondname = input(\"Please enter surname: \")\n",
    "firstnameup = firstname.upper()\n",
    "sub1 = firstnameup[0:1]\n",
    "firstnamelo = firstname.lower()\n",
    "sub2 = firstnamelo[0:1]\n",
    "concat = firstname+secondname\n",
    "secondnameup = secondname.upper()\n",
    "sub3 = secondnameup[0:1]\n",
    "secondnamelo = secondname.lower()\n",
    "sub4 = secondnamelo[0:1]\n",
    "for loop in range(3):\n",
    "    print(sub1+\" \"+sub3+\" \"+firstnameup+\" \"+secondnamelo+\" \"+concat)\n",
    "    print(concat+\" \"+secondnameup+\" \"+firstnamelo+\" \"+sub4+\" \"+sub2)"
   ]
  },
  {
   "cell_type": "code",
   "execution_count": 7,
   "id": "314af79a",
   "metadata": {},
   "outputs": [
    {
     "name": "stdout",
     "output_type": "stream",
     "text": [
      "Please enter the score for each ball.\n",
      "0\n",
      "2\n",
      "0\n",
      "0\n",
      "4\n",
      "6\n",
      "This over's score was:  12\n"
     ]
    }
   ],
   "source": [
    "#program31\n",
    "print(\"Please enter the score for each ball.\")\n",
    "lst = []\n",
    "for loop in range(6):\n",
    "    num = input()\n",
    "    lst.append(num)\n",
    "total = 0\n",
    "for ele in range(0, len(lst)):\n",
    "    total = total + int(lst[ele])\n",
    "print(\"This over's score was: \" , total)\n",
    "    "
   ]
  },
  {
   "cell_type": "code",
   "execution_count": null,
   "id": "3bcad0ed",
   "metadata": {},
   "outputs": [],
   "source": [
    "#program32\n",
    "print(\"Please enter the seven temperatures.\")\n",
    "lst = []\n",
    "for loop in range(7):\n",
    "    num = input()\n",
    "    lst.append(num)\n",
    "total = 0\n",
    "for ele in range(0, len(lst)):\n",
    "    total = total + int(lst[ele])\n",
    "    average = round(total/7,2)\n",
    "print(\"This week's average was:\")\n",
    "print(average, \" degrees centigrade\")"
   ]
  },
  {
   "cell_type": "code",
   "execution_count": null,
   "id": "e1fb8e5d",
   "metadata": {},
   "outputs": [],
   "source": [
    "#program33\n",
    "sentence = input(\"Which sentence would you like copied? \")\n",
    "number = int(input(\"How many times would you like this copied?\"))\n",
    "for loop in range(number):\n",
    "    print(sentence)"
   ]
  },
  {
   "cell_type": "code",
   "execution_count": null,
   "id": "5a5bd323",
   "metadata": {},
   "outputs": [],
   "source": [
    "#program34\n",
    "number = int(input(\"How many charity raisers were there?\"))\n",
    "lst = []\n",
    "print(\"Enter the total raised by each:\")\n",
    "for loop in range(number):\n",
    "    num = input()\n",
    "    lst.append(num)\n",
    "total = 0\n",
    "for ele in range(0, len(lst)):\n",
    "    total = total + int(lst[ele])\n",
    "print(\"A total of $\"+str(total)+ \" was raised.\")\n",
    "if total > 2000:\n",
    "    remain = total - 2000\n",
    "    newtotal = (2*2000) + remain\n",
    "print(\"This will be increased to:\")\n",
    "for loop in range(3):\n",
    "    print(\"$\"+str(newtotal) +\"!!!\")"
   ]
  },
  {
   "cell_type": "code",
   "execution_count": null,
   "id": "40eac5ac",
   "metadata": {},
   "outputs": [],
   "source": [
    "#program35\n",
    "number = int(input(\"Please enter the number of students:\"))\n",
    "print(\"Enter the time in seconds for each student.\")\n",
    "lst = []\n",
    "total = 0\n",
    "for student in range(1,number+1):\n",
    "    print(\"student\",student)\n",
    "    time = int(input())\n",
    "    lst.append(time)\n",
    "average = round(sum(lst)/number,2)\n",
    "print(\"The average time for the \" +str(number)+\" students was :\")\n",
    "print(average, \" seconds\")"
   ]
  },
  {
   "cell_type": "code",
   "execution_count": null,
   "id": "05d78bcc",
   "metadata": {},
   "outputs": [],
   "source": [
    "#program36\n",
    "print(\"Odd Number List\")\n",
    "for count in range(1,12,2):\n",
    "    print(count)"
   ]
  },
  {
   "cell_type": "code",
   "execution_count": null,
   "id": "d131d431",
   "metadata": {},
   "outputs": [],
   "source": [
    "#program37\n",
    "print(\"The following program will display odd numbers.\")\n",
    "number1 = int(input(\"Enter the first number in the list \"))\n",
    "number2 = int(input(\"Enter the last number in the list \"))\n",
    "number2 = number2 +1\n",
    "for count in range(number1,number2,2):\n",
    "    print(count)"
   ]
  },
  {
   "cell_type": "code",
   "execution_count": null,
   "id": "502c91b6",
   "metadata": {},
   "outputs": [],
   "source": [
    "#program38\n",
    "password = input(\"Please enter the password.\")\n",
    "while (password != \"ornery\"):\n",
    "    print(\"Sorry, incorrect! Try again.\")\n",
    "    password = input(\"Please enter the password.\")\n",
    "else:\n",
    "    print(\"Entry gained!\")"
   ]
  },
  {
   "cell_type": "code",
   "execution_count": null,
   "id": "28f76b73",
   "metadata": {},
   "outputs": [],
   "source": [
    "#program39\n",
    "print(\"The following program will display odd numbers.\")\n",
    "number1 = int(input(\"Enter the first number in the list\"))\n",
    "number2 = int(input(\"Enter the last number in the list\"))\n",
    "while (number2 < number1+20):\n",
    "    print(\"Sorry, the number must be at least \",number1,\"+20\")\n",
    "    number2 = int(input(\"Please re-enter the number\"))\n",
    "else:\n",
    "    for count in range(number1,number2,2):\n",
    "        print(count)"
   ]
  },
  {
   "cell_type": "code",
   "execution_count": null,
   "id": "d34f31ab",
   "metadata": {},
   "outputs": [],
   "source": [
    "#program40\n",
    "while True:\n",
    "    comment  = input(\"Would you like some advice?\")\n",
    "    if comment == \"Y\":\n",
    "        print(\"Don't feed the trolls!\")\n",
    "        break\n",
    "    if comment == \"N\":\n",
    "        print(\"Don't be silly. You definitely need advice!\")\n",
    "    if (comment != \"Y\") and (comment != \"N\"):\n",
    "        print(\"Please enter Y or N only.\")"
   ]
  },
  {
   "cell_type": "code",
   "execution_count": null,
   "id": "ce140b65",
   "metadata": {},
   "outputs": [],
   "source": [
    "#program41\n",
    "lst = []\n",
    "while True:\n",
    "    x = int(input(\"Please enter the price of each present:\"))\n",
    "    lst.append(x)\n",
    "    total = sum(lst)\n",
    "    n = lst[-1]\n",
    "    if total>200:\n",
    "        print(\"Limit Exceeded.\")\n",
    "        print(\"You can't include the $\",n,\" present.\")\n",
    "        break"
   ]
  },
  {
   "cell_type": "code",
   "execution_count": null,
   "id": "9dbf9a6c",
   "metadata": {},
   "outputs": [],
   "source": [
    "#program 42\n",
    "while True:\n",
    "    comment = input(\"Enter your menu choice (Q, A, K or L)\")\n",
    "    L = [\"Q\",\"A\",\"K\",\"L\"]\n",
    "    if comment.upper() in L:\n",
    "        print(comment.upper(),\" selected\")\n",
    "        break\n",
    "    if comment.upper() not in L:\n",
    "        print(comment.upper(),\" is not valid. Enter Q, A, K or L\")"
   ]
  },
  {
   "cell_type": "code",
   "execution_count": null,
   "id": "ce47d15f",
   "metadata": {},
   "outputs": [],
   "source": [
    "#program 43\n",
    "print(\"Guess the hidden number between 1 and 100.\")\n",
    "while True:\n",
    "    guess = int(input(\"Enter your guess.\"))\n",
    "    if guess > 100:\n",
    "        print(\"Your guess is not valid. Enter again.\")\n",
    "    elif (guess < 100) and (guess > 52):\n",
    "        print(\"Your guess is too high. Try again.\")\n",
    "    elif (guess <= 50):\n",
    "        print(\"Your guess is too low. Try again.\")\n",
    "    elif guess == 52:\n",
    "        print(\"Correct! Well Done.\")\n",
    "        break"
   ]
  },
  {
   "cell_type": "code",
   "execution_count": 1,
   "id": "5a0af3f1",
   "metadata": {},
   "outputs": [
    {
     "name": "stdout",
     "output_type": "stream",
     "text": [
      "Week 1\n",
      "Please enter the seven temperature\n",
      "12\n",
      "14\n",
      "7\n",
      "6\n",
      "66\n",
      "Temperature should be between -40 and 55\n",
      "7\n",
      "11\n",
      "11\n",
      "Week 2\n",
      "Please enter the seven temperature\n",
      "12\n",
      "14\n",
      "7\n",
      "6\n",
      "66\n",
      "Temperature should be between -40 and 55\n",
      "7\n",
      "11\n",
      "11\n",
      "Week 3\n",
      "Please enter the seven temperature\n",
      "12\n",
      "14\n",
      "7\n",
      "6\n",
      "66\n",
      "Temperature should be between -40 and 55\n",
      "7\n",
      "11\n",
      "11\n",
      "Week 4\n",
      "Please enter the seven temperature\n",
      "12\n",
      "14\n",
      "7\n",
      "6\n",
      "66\n",
      "Temperature should be between -40 and 55\n",
      "7\n",
      "11\n",
      "11\n",
      "Week 1 average was:\n",
      "9.71 degrees centigrade\n",
      "Week 2 average was:\n",
      "9.71 degrees centigrade\n",
      "Week 3 average was:\n",
      "9.71 degrees centigrade\n",
      "Week 4 average was:\n",
      "9.71 degrees centigrade\n"
     ]
    }
   ],
   "source": [
    "#program 44\n",
    "lst = []\n",
    "for i in range(4):\n",
    "    print(\"Week\",i+1)\n",
    "    print(\"Please enter the seven temperature\")\n",
    "    total = 0\n",
    "    for j in range(7):\n",
    "        t = int(input())\n",
    "        while not(t>-40 and t<55):\n",
    "            print(\"Temperature should be between -40 and 55\")\n",
    "            t = int(input())\n",
    "        total = total+t\n",
    "    avg = round(total/7,2)\n",
    "    lst.append(avg)\n",
    "    \n",
    "for k in range(4):\n",
    "    print(\"Week\",k+1,\"average was:\")\n",
    "    print(lst[k],\"degrees centigrade\")\n",
    "        "
   ]
  },
  {
   "cell_type": "code",
   "execution_count": 6,
   "id": "0ad2fe6d",
   "metadata": {},
   "outputs": [
    {
     "name": "stdout",
     "output_type": "stream",
     "text": [
      "Please enter the score for Player 1\n",
      "34\n",
      "26\n",
      "200\n",
      "Invalid Score\n",
      "100\n",
      "0\n",
      "0\n",
      "Please enter the score for Player 2\n",
      "78\n",
      "80\n",
      "97\n",
      "0\n",
      "0\n"
     ]
    }
   ],
   "source": [
    "#program 45\n",
    "lst = []\n",
    "for i in range(2):\n",
    "    print(\"Please enter the score for Player\",i+1)\n",
    "    total = 0\n",
    "    for j in range(3):\n",
    "        t = int(input())\n",
    "        while not(t>0 and t<180):\n",
    "            print(\"Invalid Score\")\n",
    "            t = int(input())\n",
    "        total = total+t\n",
    "    print(total)"
   ]
  },
  {
   "cell_type": "code",
   "execution_count": null,
   "id": "567559ae",
   "metadata": {},
   "outputs": [],
   "source": []
  }
 ],
 "metadata": {
  "kernelspec": {
   "display_name": "Python 3 (ipykernel)",
   "language": "python",
   "name": "python3"
  },
  "language_info": {
   "codemirror_mode": {
    "name": "ipython",
    "version": 3
   },
   "file_extension": ".py",
   "mimetype": "text/x-python",
   "name": "python",
   "nbconvert_exporter": "python",
   "pygments_lexer": "ipython3",
   "version": "3.9.7"
  }
 },
 "nbformat": 4,
 "nbformat_minor": 5
}
