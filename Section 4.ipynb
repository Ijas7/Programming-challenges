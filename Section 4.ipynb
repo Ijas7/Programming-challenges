{
 "cells": [
  {
   "cell_type": "code",
   "execution_count": 3,
   "id": "37b4e133",
   "metadata": {},
   "outputs": [
    {
     "name": "stdout",
     "output_type": "stream",
     "text": [
      "Mountain Bike\n",
      "Ski Jacket\n",
      "Electric Guitar\n",
      "PS3 - 500GB\n",
      "Badminton Racquet\n"
     ]
    }
   ],
   "source": [
    "#program46\n",
    "lst = [\"Mountain Bike\", \"Ski Jacket\", \"Electric Guitar\", \"PS3 - 500GB\", \"Badminton Racquet\"]\n",
    "print(*lst, sep = \"\\n\")"
   ]
  },
  {
   "cell_type": "code",
   "execution_count": 5,
   "id": "79e515ab",
   "metadata": {},
   "outputs": [
    {
     "name": "stdout",
     "output_type": "stream",
     "text": [
      "Mountain Bike - $200\n",
      "Ski Jacket - $67\n",
      "Electric Guitar - $330\n",
      "PS3 - 500GB - $120\n",
      "Badminton Racquet - $15\n"
     ]
    }
   ],
   "source": [
    "#program47\n",
    "items = [\"Mountain Bike\", \"Ski Jacket\", \"Electric Guitar\", \"PS3 - 500GB\", \"Badminton Racquet\"]\n",
    "price = [\"$200\",\"$67\",\"$330\",\"$120\",\"$15\"]\n",
    "for counter in range(len(items)):\n",
    "    print(items[counter],\"-\",price[counter])"
   ]
  },
  {
   "cell_type": "code",
   "execution_count": 6,
   "id": "6c6ebc2e",
   "metadata": {},
   "outputs": [
    {
     "name": "stdout",
     "output_type": "stream",
     "text": [
      "Please enter the score for each ball.\n",
      "0\n",
      "2\n",
      "0\n",
      "0\n",
      "4\n",
      "6\n",
      "This over's score was:  12\n",
      "0\n",
      "2\n",
      "0\n",
      "0\n",
      "4\n",
      "6\n"
     ]
    }
   ],
   "source": [
    "#program48\n",
    "print(\"Please enter the score for each ball.\")\n",
    "lst = []\n",
    "for loop in range(6):\n",
    "    num = input()\n",
    "    lst.append(num)\n",
    "total = 0\n",
    "for ele in range(0, len(lst)):\n",
    "    total = total + int(lst[ele])\n",
    "print(\"This over's score was: \" , total)\n",
    "print(*lst, sep = \"\\n\")"
   ]
  },
  {
   "cell_type": "code",
   "execution_count": null,
   "id": "5e93180d",
   "metadata": {},
   "outputs": [],
   "source": [
    "#program49doubt\n",
    "for i in range(4):\n",
    "    list1 = []\n",
    "    list2 = []\n",
    "    name = input(\"Please enter a name:\")\n",
    "    list1.append(name)\n",
    "    print(\"Please enter\",names[0],\"'s age:\")\n",
    "    age = int(input())\n",
    "    if age<12:\n",
    "        list2.append(\"Junior\")\n",
    "    elif age>18:\n",
    "        list2.append(\"Senior\")\n",
    "    else:\n",
    "        list2.append(\"Teen\")\n",
    "print(\"Names and Competition Lists\")\n",
    "for counter in range(len(names)):    \n",
    "    print(names[counter],\"-\",ages[counter])"
   ]
  },
  {
   "cell_type": "code",
   "execution_count": 32,
   "id": "32870b8a",
   "metadata": {},
   "outputs": [],
   "source": [
    "#program50\n",
    "name = [\"Black Beauty\", \"Francine\", \"Langrish\", \"Mathew\", \"Ram\"]\n"
   ]
  },
  {
   "cell_type": "code",
   "execution_count": null,
   "id": "cb62c494",
   "metadata": {},
   "outputs": [],
   "source": []
  }
 ],
 "metadata": {
  "kernelspec": {
   "display_name": "Python 3 (ipykernel)",
   "language": "python",
   "name": "python3"
  },
  "language_info": {
   "codemirror_mode": {
    "name": "ipython",
    "version": 3
   },
   "file_extension": ".py",
   "mimetype": "text/x-python",
   "name": "python",
   "nbconvert_exporter": "python",
   "pygments_lexer": "ipython3",
   "version": "3.9.7"
  }
 },
 "nbformat": 4,
 "nbformat_minor": 5
}
